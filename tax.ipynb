{
 "cells": [
  {
   "cell_type": "code",
   "execution_count": null,
   "id": "f3702e51",
   "metadata": {},
   "outputs": [],
   "source": [
    "2025-State-Individual-Income-Tax-Rates-and-Brackets-2025.xlsx"
   ]
  },
  {
   "cell_type": "code",
   "execution_count": 1,
   "id": "34ec87d7",
   "metadata": {},
   "outputs": [
    {
     "name": "stdout",
     "output_type": "stream",
     "text": [
      "Requirement already satisfied: pandas in c:\\users\\ryan\\appdata\\local\\programs\\python\\python310\\lib\\site-packages (2.2.3)\n",
      "Requirement already satisfied: openpyxl in c:\\users\\ryan\\appdata\\local\\programs\\python\\python310\\lib\\site-packages (3.1.5)\n",
      "Requirement already satisfied: matplotlib in c:\\users\\ryan\\appdata\\local\\programs\\python\\python310\\lib\\site-packages (3.9.2)\n",
      "Requirement already satisfied: seaborn in c:\\users\\ryan\\appdata\\local\\programs\\python\\python310\\lib\\site-packages (0.13.2)\n",
      "Requirement already satisfied: numpy>=1.22.4 in c:\\users\\ryan\\appdata\\local\\programs\\python\\python310\\lib\\site-packages (from pandas) (1.26.4)\n",
      "Requirement already satisfied: python-dateutil>=2.8.2 in c:\\users\\ryan\\appdata\\local\\programs\\python\\python310\\lib\\site-packages (from pandas) (2.9.0.post0)\n",
      "Requirement already satisfied: pytz>=2020.1 in c:\\users\\ryan\\appdata\\local\\programs\\python\\python310\\lib\\site-packages (from pandas) (2024.2)\n",
      "Requirement already satisfied: tzdata>=2022.7 in c:\\users\\ryan\\appdata\\local\\programs\\python\\python310\\lib\\site-packages (from pandas) (2024.1)\n",
      "Requirement already satisfied: et-xmlfile in c:\\users\\ryan\\appdata\\local\\programs\\python\\python310\\lib\\site-packages (from openpyxl) (1.1.0)\n",
      "Requirement already satisfied: contourpy>=1.0.1 in c:\\users\\ryan\\appdata\\local\\programs\\python\\python310\\lib\\site-packages (from matplotlib) (1.3.0)\n",
      "Requirement already satisfied: cycler>=0.10 in c:\\users\\ryan\\appdata\\local\\programs\\python\\python310\\lib\\site-packages (from matplotlib) (0.12.1)\n",
      "Requirement already satisfied: fonttools>=4.22.0 in c:\\users\\ryan\\appdata\\local\\programs\\python\\python310\\lib\\site-packages (from matplotlib) (4.54.1)\n",
      "Requirement already satisfied: kiwisolver>=1.3.1 in c:\\users\\ryan\\appdata\\local\\programs\\python\\python310\\lib\\site-packages (from matplotlib) (1.4.7)\n",
      "Requirement already satisfied: packaging>=20.0 in c:\\users\\ryan\\appdata\\local\\programs\\python\\python310\\lib\\site-packages (from matplotlib) (24.1)\n",
      "Requirement already satisfied: pillow>=8 in c:\\users\\ryan\\appdata\\local\\programs\\python\\python310\\lib\\site-packages (from matplotlib) (10.2.0)\n",
      "Requirement already satisfied: pyparsing>=2.3.1 in c:\\users\\ryan\\appdata\\local\\programs\\python\\python310\\lib\\site-packages (from matplotlib) (3.2.0)\n",
      "Requirement already satisfied: six>=1.5 in c:\\users\\ryan\\appdata\\local\\programs\\python\\python310\\lib\\site-packages (from python-dateutil>=2.8.2->pandas) (1.16.0)\n",
      "Note: you may need to restart the kernel to use updated packages.\n"
     ]
    },
    {
     "name": "stderr",
     "output_type": "stream",
     "text": [
      "\n",
      "[notice] A new release of pip is available: 24.2 -> 25.1.1\n",
      "[notice] To update, run: python.exe -m pip install --upgrade pip\n"
     ]
    }
   ],
   "source": [
    "pip install pandas openpyxl matplotlib seaborn\n"
   ]
  },
  {
   "cell_type": "code",
   "execution_count": 2,
   "id": "5014ae5c",
   "metadata": {},
   "outputs": [],
   "source": [
    "import pandas as pd\n",
    "import matplotlib.pyplot as plt\n",
    "import seaborn as sns\n"
   ]
  },
  {
   "cell_type": "code",
   "execution_count": 4,
   "id": "16bdad8a",
   "metadata": {},
   "outputs": [],
   "source": [
    "# Replace with your file path\n",
    "file_path = \"2025-State-Individual-Income-Tax-Rates-and-Brackets-2025.xlsx\"\n",
    "\n",
    "# Load the sheet (you can pass a sheet name or index)\n",
    "df = pd.read_excel(file_path, sheet_name=0)  # Use sheet_name=None to list all sheets\n"
   ]
  },
  {
   "cell_type": "code",
   "execution_count": 5,
   "id": "4ef681fa",
   "metadata": {},
   "outputs": [
    {
     "name": "stdout",
     "output_type": "stream",
     "text": [
      "Index(['Unnamed: 0', 'Single Filer', 'Unnamed: 2', 'Unnamed: 3',\n",
      "       'Married Filing Jointly', 'Unnamed: 5', 'Unnamed: 6',\n",
      "       'Standard Deduction', 'Unnamed: 8', 'Personal Exemption', 'Unnamed: 10',\n",
      "       'Unnamed: 11'],\n",
      "      dtype='object')\n"
     ]
    },
    {
     "data": {
      "text/html": [
       "<div>\n",
       "<style scoped>\n",
       "    .dataframe tbody tr th:only-of-type {\n",
       "        vertical-align: middle;\n",
       "    }\n",
       "\n",
       "    .dataframe tbody tr th {\n",
       "        vertical-align: top;\n",
       "    }\n",
       "\n",
       "    .dataframe thead th {\n",
       "        text-align: right;\n",
       "    }\n",
       "</style>\n",
       "<table border=\"1\" class=\"dataframe\">\n",
       "  <thead>\n",
       "    <tr style=\"text-align: right;\">\n",
       "      <th></th>\n",
       "      <th>Unnamed: 0</th>\n",
       "      <th>Single Filer</th>\n",
       "      <th>Unnamed: 2</th>\n",
       "      <th>Unnamed: 3</th>\n",
       "      <th>Married Filing Jointly</th>\n",
       "      <th>Unnamed: 5</th>\n",
       "      <th>Unnamed: 6</th>\n",
       "      <th>Standard Deduction</th>\n",
       "      <th>Unnamed: 8</th>\n",
       "      <th>Personal Exemption</th>\n",
       "      <th>Unnamed: 10</th>\n",
       "      <th>Unnamed: 11</th>\n",
       "    </tr>\n",
       "  </thead>\n",
       "  <tbody>\n",
       "    <tr>\n",
       "      <th>0</th>\n",
       "      <td>State</td>\n",
       "      <td>Rates</td>\n",
       "      <td>NaN</td>\n",
       "      <td>Brackets</td>\n",
       "      <td>Rates</td>\n",
       "      <td>NaN</td>\n",
       "      <td>Brackets</td>\n",
       "      <td>Single</td>\n",
       "      <td>Couple</td>\n",
       "      <td>Single</td>\n",
       "      <td>Couple</td>\n",
       "      <td>Dependent</td>\n",
       "    </tr>\n",
       "    <tr>\n",
       "      <th>1</th>\n",
       "      <td>Ala.</td>\n",
       "      <td>0.02</td>\n",
       "      <td>&gt;</td>\n",
       "      <td>0</td>\n",
       "      <td>0.02</td>\n",
       "      <td>&gt;</td>\n",
       "      <td>0</td>\n",
       "      <td>3000</td>\n",
       "      <td>8500</td>\n",
       "      <td>1500</td>\n",
       "      <td>3000</td>\n",
       "      <td>1000</td>\n",
       "    </tr>\n",
       "    <tr>\n",
       "      <th>2</th>\n",
       "      <td>(a, b, c)</td>\n",
       "      <td>0.04</td>\n",
       "      <td>&gt;</td>\n",
       "      <td>500</td>\n",
       "      <td>0.04</td>\n",
       "      <td>&gt;</td>\n",
       "      <td>1000</td>\n",
       "      <td>NaN</td>\n",
       "      <td>NaN</td>\n",
       "      <td>NaN</td>\n",
       "      <td>NaN</td>\n",
       "      <td>NaN</td>\n",
       "    </tr>\n",
       "    <tr>\n",
       "      <th>3</th>\n",
       "      <td>NaN</td>\n",
       "      <td>0.05</td>\n",
       "      <td>&gt;</td>\n",
       "      <td>3000</td>\n",
       "      <td>0.05</td>\n",
       "      <td>&gt;</td>\n",
       "      <td>6000</td>\n",
       "      <td>NaN</td>\n",
       "      <td>NaN</td>\n",
       "      <td>NaN</td>\n",
       "      <td>NaN</td>\n",
       "      <td>NaN</td>\n",
       "    </tr>\n",
       "    <tr>\n",
       "      <th>4</th>\n",
       "      <td>NaN</td>\n",
       "      <td>NaN</td>\n",
       "      <td>NaN</td>\n",
       "      <td>NaN</td>\n",
       "      <td>NaN</td>\n",
       "      <td>NaN</td>\n",
       "      <td>NaN</td>\n",
       "      <td>NaN</td>\n",
       "      <td>NaN</td>\n",
       "      <td>NaN</td>\n",
       "      <td>NaN</td>\n",
       "      <td>NaN</td>\n",
       "    </tr>\n",
       "  </tbody>\n",
       "</table>\n",
       "</div>"
      ],
      "text/plain": [
       "  Unnamed: 0 Single Filer Unnamed: 2 Unnamed: 3 Married Filing Jointly  \\\n",
       "0      State        Rates        NaN   Brackets                  Rates   \n",
       "1       Ala.         0.02          >          0                   0.02   \n",
       "2  (a, b, c)         0.04          >        500                   0.04   \n",
       "3        NaN         0.05          >       3000                   0.05   \n",
       "4        NaN          NaN        NaN        NaN                    NaN   \n",
       "\n",
       "  Unnamed: 5 Unnamed: 6 Standard Deduction Unnamed: 8 Personal Exemption  \\\n",
       "0        NaN   Brackets             Single     Couple             Single   \n",
       "1          >          0               3000       8500               1500   \n",
       "2          >       1000                NaN        NaN                NaN   \n",
       "3          >       6000                NaN        NaN                NaN   \n",
       "4        NaN        NaN                NaN        NaN                NaN   \n",
       "\n",
       "  Unnamed: 10 Unnamed: 11  \n",
       "0      Couple   Dependent  \n",
       "1        3000        1000  \n",
       "2         NaN         NaN  \n",
       "3         NaN         NaN  \n",
       "4         NaN         NaN  "
      ]
     },
     "execution_count": 5,
     "metadata": {},
     "output_type": "execute_result"
    }
   ],
   "source": [
    "# View column names and structure\n",
    "print(df.columns)\n",
    "df.head()\n"
   ]
  }
 ],
 "metadata": {
  "kernelspec": {
   "display_name": "Python 3",
   "language": "python",
   "name": "python3"
  },
  "language_info": {
   "codemirror_mode": {
    "name": "ipython",
    "version": 3
   },
   "file_extension": ".py",
   "mimetype": "text/x-python",
   "name": "python",
   "nbconvert_exporter": "python",
   "pygments_lexer": "ipython3",
   "version": "3.10.0"
  }
 },
 "nbformat": 4,
 "nbformat_minor": 5
}
