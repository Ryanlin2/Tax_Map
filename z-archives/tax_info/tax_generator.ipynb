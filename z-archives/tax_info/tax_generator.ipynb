{
 "cells": [
  {
   "cell_type": "code",
   "execution_count": 8,
   "id": "267f9687",
   "metadata": {},
   "outputs": [
    {
     "name": "stdout",
     "output_type": "stream",
     "text": [
      ":\n",
      "[{'rate': '0.04', 'symbol': '>', 'threshold': '500'}, {'rate': '0.05', 'symbol': '>', 'threshold': '3000'}, {'rate': '0.039', 'symbol': '>', 'threshold': '4500'}, {'rate': '0.02', 'symbol': '>', 'threshold': '10756'}, {'rate': '0.04', 'symbol': '>', 'threshold': '25499'}, {'rate': '0.06', 'symbol': '>', 'threshold': '40245'}, {'rate': '0.08', 'symbol': '>', 'threshold': '55866'}, {'rate': '0.093', 'symbol': '>', 'threshold': '70606'}, {'rate': '0.103', 'symbol': '>', 'threshold': '360659'}, {'rate': '0.113', 'symbol': '>', 'threshold': '432787'}, {'rate': '0.123', 'symbol': '>', 'threshold': '721314'}, {'rate': '0.133', 'symbol': '>', 'threshold': '1000000'}, {'rate': '0.045', 'symbol': '>', 'threshold': '10000'}, {'rate': '0.055', 'symbol': '>', 'threshold': '50000'}, {'rate': '0.06', 'symbol': '>', 'threshold': '100000'}, {'rate': '0.065', 'symbol': '>', 'threshold': '200000'}, {'rate': '0.069', 'symbol': '>', 'threshold': '250000'}, {'rate': '0.0699', 'symbol': '>', 'threshold': '500000'}, {'rate': '0.039', 'symbol': '>', 'threshold': '5000'}, {'rate': '0.048', 'symbol': '>', 'threshold': '10000'}, {'rate': '0.052', 'symbol': '>', 'threshold': '20000'}, {'rate': '0.0555', 'symbol': '>', 'threshold': '25000'}, {'rate': '0.066', 'symbol': '>', 'threshold': '60000'}, {'rate': '0.032', 'symbol': '>', 'threshold': '9600'}, {'rate': '0.055', 'symbol': '>', 'threshold': '14400'}, {'rate': '0.064', 'symbol': '>', 'threshold': '19200'}, {'rate': '0.068', 'symbol': '>', 'threshold': '24000'}, {'rate': '0.072', 'symbol': '>', 'threshold': '36000'}, {'rate': '0.076', 'symbol': '>', 'threshold': '48000'}, {'rate': '0.079', 'symbol': '>', 'threshold': '125000'}, {'rate': '0.0825', 'symbol': '>', 'threshold': '175000'}, {'rate': '0.09', 'symbol': '>', 'threshold': '225000'}, {'rate': '0.1', 'symbol': '>', 'threshold': '275000'}, {'rate': '0.11', 'symbol': '>', 'threshold': '325000'}, {'rate': '0.0558', 'symbol': '>', 'threshold': '23000'}, {'rate': '0.0675', 'symbol': '>', 'threshold': '26800'}, {'rate': '0.0715', 'symbol': '>', 'threshold': '63450'}, {'rate': '0.03', 'symbol': '>', 'threshold': '1000'}, {'rate': '0.04', 'symbol': '>', 'threshold': '2000'}, {'rate': '0.0475', 'symbol': '>', 'threshold': '3000'}, {'rate': '0.05', 'symbol': '>', 'threshold': '100000'}, {'rate': '0.0525', 'symbol': '>', 'threshold': '125000'}, {'rate': '0.055', 'symbol': '>', 'threshold': '150000'}, {'rate': '0.0575', 'symbol': '>', 'threshold': '250000'}, {'rate': '0.068', 'symbol': '>', 'threshold': '32570'}, {'rate': '0.0785', 'symbol': '>', 'threshold': '106990'}, {'rate': '0.0985', 'symbol': '>', 'threshold': '198630'}, {'rate': '0.025', 'symbol': '>', 'threshold': '2626'}, {'rate': '0.03', 'symbol': '>', 'threshold': '3939'}, {'rate': '0.035', 'symbol': '>', 'threshold': '5252'}, {'rate': '0.04', 'symbol': '>', 'threshold': '6565'}, {'rate': '0.045', 'symbol': '>', 'threshold': '7878'}, {'rate': '0.047', 'symbol': '>', 'threshold': '9191'}, {'rate': '0.059', 'symbol': '>', 'threshold': '21100'}, {'rate': '0.0351', 'symbol': '>', 'threshold': '4030'}, {'rate': '0.0501', 'symbol': '>', 'threshold': '24120'}, {'rate': '0.052', 'symbol': '>', 'threshold': '38870'}, {'rate': '0.0175', 'symbol': '>', 'threshold': '20000'}, {'rate': '0.035', 'symbol': '>', 'threshold': '35000'}, {'rate': '0.05525', 'symbol': '>', 'threshold': '40000'}, {'rate': '0.0637', 'symbol': '>', 'threshold': '75000'}, {'rate': '0.0897', 'symbol': '>', 'threshold': '500000'}, {'rate': '0.1075', 'symbol': '>', 'threshold': '1000000'}, {'rate': '0.032', 'symbol': '>', 'threshold': '5500'}, {'rate': '0.043', 'symbol': '>', 'threshold': '16500'}, {'rate': '0.047', 'symbol': '>', 'threshold': '33500'}, {'rate': '0.049', 'symbol': '>', 'threshold': '66500'}, {'rate': '0.059', 'symbol': '>', 'threshold': '210000'}, {'rate': '0.045', 'symbol': '>', 'threshold': '8500'}, {'rate': '0.0525', 'symbol': '>', 'threshold': '11700'}, {'rate': '0.055', 'symbol': '>', 'threshold': '13900'}, {'rate': '0.06', 'symbol': '>', 'threshold': '80650'}, {'rate': '0.0685', 'symbol': '>', 'threshold': '215400'}, {'rate': '0.0965', 'symbol': '>', 'threshold': '1077550'}, {'rate': '0.103', 'symbol': '>', 'threshold': '5000000'}, {'rate': '0.109', 'symbol': '>', 'threshold': '25000000'}, {'rate': '0.025', 'symbol': '>', 'threshold': '244825'}, {'rate': '0.035', 'symbol': '>', 'threshold': '100000'}, {'rate': '0.0075', 'symbol': '>', 'threshold': '1000'}, {'rate': '0.0175', 'symbol': '>', 'threshold': '2500'}, {'rate': '0.0275', 'symbol': '>', 'threshold': '3750'}, {'rate': '0.0375', 'symbol': '>', 'threshold': '4900'}, {'rate': '0.0475', 'symbol': '>', 'threshold': '7200'}, {'rate': '0.0675', 'symbol': '>', 'threshold': '4400'}, {'rate': '0.0875', 'symbol': '>', 'threshold': '11050'}, {'rate': '0.099', 'symbol': '>', 'threshold': '125000'}, {'rate': '0.0475', 'symbol': '>', 'threshold': '79900'}, {'rate': '0.0599', 'symbol': '>', 'threshold': '181650'}, {'rate': '0.03', 'symbol': '>', 'threshold': '3560'}, {'rate': '0.062', 'symbol': '>', 'threshold': '17830'}, {'rate': '0.066', 'symbol': '>', 'threshold': '47900'}, {'rate': '0.076', 'symbol': '>', 'threshold': '116000'}, {'rate': '0.0875', 'symbol': '>', 'threshold': '242000'}, {'rate': '0.03', 'symbol': '>', 'threshold': '3000'}, {'rate': '0.05', 'symbol': '>', 'threshold': '5000'}, {'rate': '0.0575', 'symbol': '>', 'threshold': '17000'}, {'rate': '0.0296', 'symbol': '>', 'threshold': '10000'}, {'rate': '0.0333', 'symbol': '>', 'threshold': '25000'}, {'rate': '0.0444', 'symbol': '>', 'threshold': '40000'}, {'rate': '0.0482', 'symbol': '>', 'threshold': '60000'}, {'rate': '0.044', 'symbol': '>', 'threshold': '14680'}, {'rate': '0.053', 'symbol': '>', 'threshold': '29370'}, {'rate': '0.0765', 'symbol': '>', 'threshold': '323290'}, {'rate': '0.06', 'symbol': '>', 'threshold': '10000'}, {'rate': '0.065', 'symbol': '>', 'threshold': '40000'}, {'rate': '0.085', 'symbol': '>', 'threshold': '60000'}, {'rate': '0.0925', 'symbol': '>', 'threshold': '250000'}, {'rate': '0.0975', 'symbol': '>', 'threshold': '500000'}, {'rate': '0.1075', 'symbol': '>', 'threshold': '1000000'}]\n",
      "\n",
      "Ala.:\n",
      "[{'rate': '0.02', 'symbol': '>', 'threshold': '0'}]\n",
      "\n",
      "Alaska:\n",
      "[{'rate': 'none', 'symbol': nan, 'threshold': nan}]\n",
      "\n",
      "Ariz.:\n",
      "[{'rate': '0.025', 'symbol': '>', 'threshold': '0'}]\n",
      "\n",
      "Ark.:\n",
      "[{'rate': '0.02', 'symbol': '>', 'threshold': '0'}]\n",
      "\n"
     ]
    },
    {
     "name": "stderr",
     "output_type": "stream",
     "text": [
      "C:\\Users\\Ryan\\AppData\\Local\\Temp\\ipykernel_26672\\4146956674.py:27: DeprecationWarning: DataFrameGroupBy.apply operated on the grouping columns. This behavior is deprecated, and in a future version of pandas the grouping columns will be excluded from the operation. Either pass `include_groups=False` to exclude the groupings or explicitly select the grouping columns after groupby to silence this warning.\n",
      "  .apply(lambda group: group[['rate', 'symbol', 'threshold']].to_dict(orient='records'))\n"
     ]
    }
   ],
   "source": [
    "import pandas as pd\n",
    "import json\n",
    "\n",
    "def build_single_filer_tax_json(csv_path: str) -> dict:\n",
    "    # Load the CSV\n",
    "    df = pd.read_csv(csv_path)\n",
    "\n",
    "    # Normalize state names\n",
    "    df['state'] = (\n",
    "        df['Unnamed: 0']\n",
    "        .ffill()\n",
    "        .str.replace(r'\\s*\\(.*$', '', regex=True)\n",
    "        .str.strip()\n",
    "    )\n",
    "\n",
    "    # Keep only relevant columns\n",
    "    df_single = df[['state', 'Single Filer', 'Unnamed: 2', 'Unnamed: 3']].copy()\n",
    "    df_single.columns = ['state', 'rate', 'symbol', 'threshold']\n",
    "\n",
    "    # Drop rows with missing rate\n",
    "    df_single = df_single.dropna(subset=['rate'])\n",
    "\n",
    "    # Group into a dictionary\n",
    "    state_tax_dict = (\n",
    "        df_single\n",
    "        .groupby('state')\n",
    "        .apply(lambda group: group[['rate', 'symbol', 'threshold']].to_dict(orient='records'))\n",
    "        .to_dict()\n",
    "    )\n",
    "\n",
    "    return state_tax_dict\n",
    "\n",
    "# Example usage\n",
    "csv_path = 'state_income_tax_2025.csv'  # replace with your actual path\n",
    "tax_data = build_single_filer_tax_json(csv_path)\n",
    "\n",
    "# Optionally save to JSON file\n",
    "with open('single_filer_tax_data.json', 'w') as f:\n",
    "    json.dump(tax_data, f, indent=2)\n",
    "\n",
    "# Print a sample\n",
    "for state, brackets in list(tax_data.items())[:5]:\n",
    "    print(f\"{state}:\\n{brackets}\\n\")\n",
    "\n"
   ]
  },
  {
   "cell_type": "code",
   "execution_count": 9,
   "id": "d6f0750b",
   "metadata": {},
   "outputs": [],
   "source": [
    "def build_single_filer_tax_json(csv_path: str) -> dict:\n",
    "    df = pd.read_csv(csv_path)\n",
    "\n",
    "    # Normalize state names\n",
    "    df['state'] = (\n",
    "        df['Unnamed: 0']\n",
    "        .ffill()\n",
    "        .str.replace(r'\\s*\\(.*$', '', regex=True)\n",
    "        .str.strip()\n",
    "    )\n",
    "\n",
    "    # Keep only valid state rows (remove blanks and header rows)\n",
    "    df = df[df['state'].notna() & (df['state'] != '') & (df['state'].str.lower() != 'state')]\n",
    "\n",
    "    # Keep only relevant columns\n",
    "    df_single = df[['state', 'Single Filer', 'Unnamed: 2', 'Unnamed: 3']].copy()\n",
    "    df_single.columns = ['state', 'rate', 'symbol', 'threshold']\n",
    "\n",
    "    # Drop rows without a rate value\n",
    "    df_single = df_single.dropna(subset=['rate'])\n",
    "\n",
    "    # Group into a dictionary\n",
    "    state_tax_dict = (\n",
    "        df_single\n",
    "        .groupby('state')\n",
    "        .apply(lambda g: g[['rate', 'symbol', 'threshold']].to_dict(orient='records'))\n",
    "        .to_dict()\n",
    "    )\n",
    "\n",
    "    return state_tax_dict\n"
   ]
  },
  {
   "cell_type": "code",
   "execution_count": 10,
   "id": "24794003",
   "metadata": {},
   "outputs": [
    {
     "name": "stdout",
     "output_type": "stream",
     "text": [
      "✅ JSON saved to single_filer_clean.json\n"
     ]
    },
    {
     "name": "stderr",
     "output_type": "stream",
     "text": [
      "C:\\Users\\Ryan\\AppData\\Local\\Temp\\ipykernel_26672\\2376171226.py:30: DeprecationWarning: DataFrameGroupBy.apply operated on the grouping columns. This behavior is deprecated, and in a future version of pandas the grouping columns will be excluded from the operation. Either pass `include_groups=False` to exclude the groupings or explicitly select the grouping columns after groupby to silence this warning.\n",
      "  .apply(lambda g: g[['rate', 'symbol', 'threshold']].to_dict(orient='records'))\n"
     ]
    }
   ],
   "source": [
    "import pandas as pd\n",
    "import json\n",
    "\n",
    "def build_and_save_single_filer_tax_json(csv_path: str, json_path: str):\n",
    "    # Step 1: Load CSV\n",
    "    df = pd.read_csv(csv_path)\n",
    "\n",
    "    # Step 2: Normalize the 'state' column\n",
    "    df['state'] = (\n",
    "        df['Unnamed: 0']\n",
    "        .ffill()\n",
    "        .str.replace(r'\\s*\\(.*$', '', regex=True)\n",
    "        .str.strip()\n",
    "    )\n",
    "\n",
    "    # Step 3: Remove invalid state entries (like blanks or \"State\" row)\n",
    "    df = df[df['state'].notna() & (df['state'] != '') & (df['state'].str.lower() != 'state')]\n",
    "\n",
    "    # Step 4: Extract relevant columns\n",
    "    df_single = df[['state', 'Single Filer', 'Unnamed: 2', 'Unnamed: 3']].copy()\n",
    "    df_single.columns = ['state', 'rate', 'symbol', 'threshold']\n",
    "\n",
    "    # Step 5: Drop rows with missing rates\n",
    "    df_single = df_single.dropna(subset=['rate'])\n",
    "\n",
    "    # Step 6: Group by state and convert to dictionary\n",
    "    tax_dict = (\n",
    "        df_single\n",
    "        .groupby('state')\n",
    "        .apply(lambda g: g[['rate', 'symbol', 'threshold']].to_dict(orient='records'))\n",
    "        .to_dict()\n",
    "    )\n",
    "\n",
    "    # Step 7: Save to JSON\n",
    "    with open(json_path, 'w') as f:\n",
    "        json.dump(tax_dict, f, indent=2)\n",
    "\n",
    "    print(f\"✅ JSON saved to {json_path}\")\n",
    "\n",
    "# Example usage\n",
    "build_and_save_single_filer_tax_json(\"state_income_tax_2025.csv\", \"single_filer_clean.json\")\n"
   ]
  }
 ],
 "metadata": {
  "kernelspec": {
   "display_name": "Python 3",
   "language": "python",
   "name": "python3"
  },
  "language_info": {
   "codemirror_mode": {
    "name": "ipython",
    "version": 3
   },
   "file_extension": ".py",
   "mimetype": "text/x-python",
   "name": "python",
   "nbconvert_exporter": "python",
   "pygments_lexer": "ipython3",
   "version": "3.10.0"
  }
 },
 "nbformat": 4,
 "nbformat_minor": 5
}
